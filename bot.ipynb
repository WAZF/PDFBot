{
  "nbformat": 4,
  "nbformat_minor": 0,
  "metadata": {
    "colab": {
      "provenance": []
    },
    "kernelspec": {
      "name": "python3",
      "display_name": "Python 3"
    },
    "language_info": {
      "name": "python"
    }
  },
  "cells": [
    {
      "cell_type": "code",
      "execution_count": null,
      "metadata": {
        "id": "-GSgldKTx9se"
      },
      "outputs": [],
      "source": [
        "pip install transformers"
      ]
    },
    {
      "cell_type": "code",
      "source": [
        "pip install PyPDF2"
      ],
      "metadata": {
        "id": "zSkyixtzyKhk"
      },
      "execution_count": null,
      "outputs": []
    },
    {
      "cell_type": "code",
      "source": [
        "from transformers import pipeline\n",
        "from PyPDF2 import PdfReader"
      ],
      "metadata": {
        "id": "KCSW4oc_0Iif"
      },
      "execution_count": null,
      "outputs": []
    },
    {
      "cell_type": "code",
      "source": [
        "# Function to extract text from PDF\n",
        "def read_pdf(file_path):\n",
        "    reader = PdfReader(file_path)\n",
        "    readed_text = \"\"\n",
        "    for page in reader.pages:\n",
        "        text = page.extract_text()\n",
        "        readed_text += text\n",
        "    return readed_text"
      ],
      "metadata": {
        "id": "fsDqIDbp0QZA"
      },
      "execution_count": null,
      "outputs": []
    },
    {
      "cell_type": "code",
      "source": [
        "# Path to your PDF file\n",
        "pdf_file_path = '/_Startup Thamizha Grand Launch and Concept Reveal - Concept Note.docx.pdf'\n",
        "r_t = read_pdf(pdf_file_path)\n",
        "print(\"\\nReaded:\",r_t)\n"
      ],
      "metadata": {
        "colab": {
          "base_uri": "https://localhost:8080/"
        },
        "id": "0uezeQ2p0lyR",
        "outputId": "273cbee6-6b89-4b2a-be69-4a45b46f3de1"
      },
      "execution_count": null,
      "outputs": [
        {
          "output_type": "stream",
          "name": "stdout",
          "text": [
            "4472\n"
          ]
        }
      ]
    },
    {
      "cell_type": "code",
      "source": [
        "def summary(r_t):\n",
        "    # Using pipeline API for summarization task\n",
        "    summarization = pipeline(\"summarization\", model=\"stevhliu/my_awesome_billsum_model\")\n",
        "    original_text = r_t\n",
        "    # Calculate the length for the summary\n",
        "    target_length = int(len(original_text) * 0.5)\n",
        "    # Generate the summary\n",
        "    summary_text = summarization(original_text, min_length=500, max_length=551)[0]['summary_text']\n",
        "    return summary_text\n"
      ],
      "metadata": {
        "id": "rst6J7uX6Sqb"
      },
      "execution_count": null,
      "outputs": []
    },
    {
      "cell_type": "code",
      "source": [
        "summarized_text = summary(r_t)\n",
        "print(\"\\nSummary:\", summarized_text)"
      ],
      "metadata": {
        "colab": {
          "base_uri": "https://localhost:8080/"
        },
        "id": "oKJniKnF6ZJw",
        "outputId": "26fc2242-4673-4a7a-c7e5-1a1575e89550"
      },
      "execution_count": null,
      "outputs": [
        {
          "output_type": "stream",
          "name": "stderr",
          "text": [
            "Token indices sequence length is longer than the specified maximum sequence length for this model (1103 > 512). Running this sequence through the model will result in indexing errors\n"
          ]
        },
        {
          "output_type": "stream",
          "name": "stdout",
          "text": [
            "\n",
            "Summary: TAMIL NADU STARTUP AND INNOV ATION MISSION (TANSIM) is the Government of Tamil Nadu’s nodal agency for Startup and Innovation, functioning under the Micro, Small and Medium Enterprises Department . the initiative is to be unveiled on the big stage before an audience of 1,000+ Startup founders, investors and key enablers and players of the Chennai Startup Ecosystem. It is proposed that ‘Startup Thamizha’ will be launched by the Hon’ble Minister for Micro, Klein and Klein Enterprises (A Section 8 Entrepreneurship Development and Innovation Institute (Tamil Nadu) (A - a prelude to the launch of 3 Landmark Investment Initiatives under the MSME’s . Department of Entrepreneurs - Startups Role in TANFUND Startup, which is the first of its kind in India and . . an audience . 1000+ Startups, ., and will be unveiling . and a .. a Prelude, the . of . M. Anbarasan, the Hon., Startups & Innovation in the presence of the ecosystem. This initiative is a “one-stop shop” to be . onboarded by a Government .’s. – . this . it’s to . ‘Taml Nadu-based Startup – Startups’, a Startup investment television reality show, which will be inaugurated at the prestigious IIT Madras Research Park, Chennai, on the 24th of November 2024. This event is aimed at creating a platform to connect . with a number of Startups and Entrepreneurs in the State. The first of their kind in the state. This project is to create a. the TAN-based startup’s Startups. The event will include a roadshow for the Tamil Nadal’s own. The TANfUND’s startup. The initiative is also to be launched. This is the e-mail. - the Startup’s Entrepreneurs’ – Entrepreneurs and Startups to onboard . as a result of a startup investment TV reality show. This prelude is to introduce a new . existing . to on-board – the Startup .\n"
          ]
        }
      ]
    },
    {
      "cell_type": "code",
      "source": [
        "qa_pipeline = pipeline(\"question-answering\", model=\"distilbert-base-cased-distilled-squad\")"
      ],
      "metadata": {
        "id": "p5h36LSL0KcJ"
      },
      "execution_count": null,
      "outputs": []
    },
    {
      "cell_type": "code",
      "source": [
        "def chatbot():\n",
        "    print(\"Chatbot: Hi! I'm your helpful chatbot. Ask me anything about the document.\")\n",
        "\n",
        "    while True:\n",
        "        user_input = input(\"You: \")\n",
        "\n",
        "        if user_input.lower() in ['exit', 'quit', 'bye']:\n",
        "            print(\"Chatbot: Goodbye! Have a great day!\")\n",
        "            break\n",
        "\n",
        "        answer = qa_pipeline(question=user_input, context=summarized_text)\n",
        "        print(f\"Chatbot: {answer['answer']}\")"
      ],
      "metadata": {
        "id": "uj5ECI-X6aoY"
      },
      "execution_count": null,
      "outputs": []
    },
    {
      "cell_type": "code",
      "source": [
        "# Start the conversation\n",
        "chatbot()"
      ],
      "metadata": {
        "colab": {
          "base_uri": "https://localhost:8080/"
        },
        "id": "t-U24PZe6dYs",
        "outputId": "f54f18dd-c47f-42fd-8540-2ba9dcc80ce9"
      },
      "execution_count": null,
      "outputs": [
        {
          "output_type": "stream",
          "name": "stdout",
          "text": [
            "Chatbot: Hi! I'm your helpful chatbot. Ask me anything about the document.\n",
            "You: which government?\n",
            "Chatbot: Government of Tamil Nadu\n",
            "You: what startup?\n",
            "Chatbot: Chennai Startup Ecosystem\n",
            "You: how many audiance?\n",
            "Chatbot: 1,000+\n",
            "You: bye\n",
            "Chatbot: Goodbye! Have a great day!\n"
          ]
        }
      ]
    }
  ]
}